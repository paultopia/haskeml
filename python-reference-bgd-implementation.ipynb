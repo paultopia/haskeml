{
 "cells": [
  {
   "cell_type": "code",
   "execution_count": 12,
   "metadata": {
    "collapsed": true
   },
   "outputs": [],
   "source": [
    "def transpose(matrix):\n",
    "    res = []\n",
    "    for idx, _ in enumerate(matrix[0]):\n",
    "        res.append([x[idx] for x in matrix])\n",
    "    return res"
   ]
  },
  {
   "cell_type": "code",
   "execution_count": 13,
   "metadata": {
    "collapsed": false
   },
   "outputs": [
    {
     "data": {
      "text/plain": [
       "[[1, 4], [2, 5], [3, 6]]"
      ]
     },
     "execution_count": 13,
     "metadata": {},
     "output_type": "execute_result"
    }
   ],
   "source": [
    "transpose([[1, 2, 3], [4, 5, 6]])"
   ]
  },
  {
   "cell_type": "code",
   "execution_count": 14,
   "metadata": {
    "collapsed": false
   },
   "outputs": [],
   "source": [
    "testdata = transpose([[2, 8, 11, 10, 8, 4, 2, 2, 9, 8, 4, 11, 12, \n",
    "                       2, 4, 4, 20, 1, 10, 15, 15, 16, 17, 6, 5]\n",
    "                         , [50, 110, 120, 550, 295, 200, 375, 52, 100, \n",
    "                            300, 412, 400, 500, 360, 205, 400, 600, 585, \n",
    "                            540, 250, 290, 510, 590, 100, 400]])\n",
    "\n",
    "testlabels =  [0.95, 24.45, 31.75, 35.00, 25.02, 16.86, 14.38, \n",
    "               9.60, 24.35, 27.50, 17.08, 37.00, 41.95, 11.66, \n",
    "               21.65, 17.89, 69.00, 10.30, 34.93, 46.59, 44.88, \n",
    "               54.12, 56.63, 22.13, 21.15]\n"
   ]
  },
  {
   "cell_type": "code",
   "execution_count": 15,
   "metadata": {
    "collapsed": false
   },
   "outputs": [
    {
     "name": "stdout",
     "output_type": "stream",
     "text": [
      "[[2, 50], [8, 110], [11, 120], [10, 550], [8, 295], [4, 200], [2, 375], [2, 52], [9, 100], [8, 300], [4, 412], [11, 400], [12, 500], [2, 360], [4, 205], [4, 400], [20, 600], [1, 585], [10, 540], [15, 250], [15, 290], [16, 510], [17, 590], [6, 100], [5, 400]]\n"
     ]
    }
   ],
   "source": [
    "print testdata"
   ]
  },
  {
   "cell_type": "code",
   "execution_count": 16,
   "metadata": {
    "collapsed": true
   },
   "outputs": [],
   "source": [
    "from copy import deepcopy \n",
    "def add_intercept(matrix):\n",
    "    l = deepcopy(matrix)\n",
    "    [x.insert(0, 1) for x in l]\n",
    "    return l"
   ]
  },
  {
   "cell_type": "code",
   "execution_count": 17,
   "metadata": {
    "collapsed": false
   },
   "outputs": [
    {
     "name": "stdout",
     "output_type": "stream",
     "text": [
      "[[2, 50], [8, 110], [11, 120], [10, 550], [8, 295], [4, 200], [2, 375], [2, 52], [9, 100], [8, 300], [4, 412], [11, 400], [12, 500], [2, 360], [4, 205], [4, 400], [20, 600], [1, 585], [10, 540], [15, 250], [15, 290], [16, 510], [17, 590], [6, 100], [5, 400]]\n"
     ]
    }
   ],
   "source": [
    "print testdata"
   ]
  },
  {
   "cell_type": "code",
   "execution_count": 18,
   "metadata": {
    "collapsed": false
   },
   "outputs": [
    {
     "name": "stdout",
     "output_type": "stream",
     "text": [
      "[[1, 2, 50], [1, 8, 110], [1, 11, 120], [1, 10, 550], [1, 8, 295], [1, 4, 200], [1, 2, 375], [1, 2, 52], [1, 9, 100], [1, 8, 300], [1, 4, 412], [1, 11, 400], [1, 12, 500], [1, 2, 360], [1, 4, 205], [1, 4, 400], [1, 20, 600], [1, 1, 585], [1, 10, 540], [1, 15, 250], [1, 15, 290], [1, 16, 510], [1, 17, 590], [1, 6, 100], [1, 5, 400]]\n"
     ]
    }
   ],
   "source": [
    "print add_intercept(testdata)"
   ]
  },
  {
   "cell_type": "code",
   "execution_count": 19,
   "metadata": {
    "collapsed": false
   },
   "outputs": [
    {
     "name": "stdout",
     "output_type": "stream",
     "text": [
      "[[2, 50], [8, 110], [11, 120], [10, 550], [8, 295], [4, 200], [2, 375], [2, 52], [9, 100], [8, 300], [4, 412], [11, 400], [12, 500], [2, 360], [4, 205], [4, 400], [20, 600], [1, 585], [10, 540], [15, 250], [15, 290], [16, 510], [17, 590], [6, 100], [5, 400]]\n"
     ]
    }
   ],
   "source": [
    "print testdata"
   ]
  },
  {
   "cell_type": "code",
   "execution_count": 22,
   "metadata": {
    "collapsed": false
   },
   "outputs": [
    {
     "name": "stdout",
     "output_type": "stream",
     "text": [
      "25\n",
      "25\n"
     ]
    }
   ],
   "source": [
    "print len(testdata)\n",
    "print len(testlabels)"
   ]
  },
  {
   "cell_type": "code",
   "execution_count": 29,
   "metadata": {
    "collapsed": true
   },
   "outputs": [],
   "source": [
    "def predict(observations, weights):\n",
    "    predictions = []\n",
    "    for x in observations:\n",
    "        predictions.append(map(lambda y: y[0] * y[1], zip(weights, x)))\n",
    "    return map(sum, predictions)"
   ]
  },
  {
   "cell_type": "code",
   "execution_count": 30,
   "metadata": {
    "collapsed": false
   },
   "outputs": [
    {
     "data": {
      "text/plain": [
       "[23, 53, 83]"
      ]
     },
     "execution_count": 30,
     "metadata": {},
     "output_type": "execute_result"
    }
   ],
   "source": [
    "predict([[1, 2], [3, 4], [5, 6]], [7, 8])"
   ]
  },
  {
   "cell_type": "code",
   "execution_count": 31,
   "metadata": {
    "collapsed": true
   },
   "outputs": [],
   "source": [
    "def sse(labels, predictions):\n",
    "    return sum([(x[0] - x[1])**2 for x in zip(labels, predictions)])"
   ]
  },
  {
   "cell_type": "code",
   "execution_count": 32,
   "metadata": {
    "collapsed": false
   },
   "outputs": [
    {
     "data": {
      "text/plain": [
       "35"
      ]
     },
     "execution_count": 32,
     "metadata": {},
     "output_type": "execute_result"
    }
   ],
   "source": [
    "sse([1, 2, 3], [6, 5, 4])"
   ]
  },
  {
   "cell_type": "markdown",
   "metadata": {},
   "source": [
    "Implementing the following gradient step formula: \n",
    "\n",
    "$$\\theta_i : = \\theta_i - \\alpha \\sum_{j=1}^{m} (h_{\\theta}(x^{(j)}) - y^{(j)}) \\cdot x_i^{(j)}$$\n",
    "\n",
    "where j in superscript indexes observations and i in subscript indexes features/weights"
   ]
  },
  {
   "cell_type": "code",
   "execution_count": null,
   "metadata": {
    "collapsed": true
   },
   "outputs": [],
   "source": [
    "def gradient_step(learning_rate, labels, weights, observations):\n",
    "    features = transpose(observations)\n",
    "    predictions = predict(observations, weights)\n",
    "    errors = [y[0] - y[1] for y in zip(predictions, labels)]\n",
    "    subtractors = []\n",
    "    for weight_idx, weight in enumerate(weights):\n",
    "        sigmasum = 0\n",
    "        for observation_idx, observation in enumerate(observations):\n",
    "            # sum the product of errors and feature values over each observation for this weight\n",
    "            obvsproduct = error[observation_idx] * observation[weight_idx]\n",
    "            sigmasum += obvsproduct\n",
    "            \n",
    "        "
   ]
  }
 ],
 "metadata": {
  "kernelspec": {
   "display_name": "Python 2",
   "language": "python",
   "name": "python2"
  },
  "language_info": {
   "codemirror_mode": {
    "name": "ipython",
    "version": 2
   },
   "file_extension": ".py",
   "mimetype": "text/x-python",
   "name": "python",
   "nbconvert_exporter": "python",
   "pygments_lexer": "ipython2",
   "version": "2.7.11"
  }
 },
 "nbformat": 4,
 "nbformat_minor": 0
}
