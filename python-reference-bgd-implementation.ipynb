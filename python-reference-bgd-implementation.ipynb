{
 "cells": [
  {
   "cell_type": "code",
   "execution_count": 12,
   "metadata": {
    "collapsed": true
   },
   "outputs": [],
   "source": [
    "def transpose(matrix):\n",
    "    res = []\n",
    "    for idx, _ in enumerate(matrix[0]):\n",
    "        res.append([x[idx] for x in matrix])\n",
    "    return res"
   ]
  },
  {
   "cell_type": "code",
   "execution_count": 13,
   "metadata": {
    "collapsed": false
   },
   "outputs": [
    {
     "data": {
      "text/plain": [
       "[[1, 4], [2, 5], [3, 6]]"
      ]
     },
     "execution_count": 13,
     "metadata": {},
     "output_type": "execute_result"
    }
   ],
   "source": [
    "transpose([[1, 2, 3], [4, 5, 6]])"
   ]
  },
  {
   "cell_type": "code",
   "execution_count": 14,
   "metadata": {
    "collapsed": false
   },
   "outputs": [],
   "source": [
    "testdata = transpose([[2, 8, 11, 10, 8, 4, 2, 2, 9, 8, 4, 11, 12, \n",
    "                       2, 4, 4, 20, 1, 10, 15, 15, 16, 17, 6, 5]\n",
    "                         , [50, 110, 120, 550, 295, 200, 375, 52, 100, \n",
    "                            300, 412, 400, 500, 360, 205, 400, 600, 585, \n",
    "                            540, 250, 290, 510, 590, 100, 400]])\n",
    "\n",
    "testlabels =  [0.95, 24.45, 31.75, 35.00, 25.02, 16.86, 14.38, \n",
    "               9.60, 24.35, 27.50, 17.08, 37.00, 41.95, 11.66, \n",
    "               21.65, 17.89, 69.00, 10.30, 34.93, 46.59, 44.88, \n",
    "               54.12, 56.63, 22.13, 21.15]\n"
   ]
  },
  {
   "cell_type": "code",
   "execution_count": 15,
   "metadata": {
    "collapsed": false
   },
   "outputs": [
    {
     "name": "stdout",
     "output_type": "stream",
     "text": [
      "[[2, 50], [8, 110], [11, 120], [10, 550], [8, 295], [4, 200], [2, 375], [2, 52], [9, 100], [8, 300], [4, 412], [11, 400], [12, 500], [2, 360], [4, 205], [4, 400], [20, 600], [1, 585], [10, 540], [15, 250], [15, 290], [16, 510], [17, 590], [6, 100], [5, 400]]\n"
     ]
    }
   ],
   "source": [
    "print testdata"
   ]
  },
  {
   "cell_type": "code",
   "execution_count": 16,
   "metadata": {
    "collapsed": true
   },
   "outputs": [],
   "source": [
    "from copy import deepcopy \n",
    "def add_intercept(matrix):\n",
    "    l = deepcopy(matrix)\n",
    "    [x.insert(0, 1) for x in l]\n",
    "    return l"
   ]
  },
  {
   "cell_type": "code",
   "execution_count": 17,
   "metadata": {
    "collapsed": false
   },
   "outputs": [
    {
     "name": "stdout",
     "output_type": "stream",
     "text": [
      "[[2, 50], [8, 110], [11, 120], [10, 550], [8, 295], [4, 200], [2, 375], [2, 52], [9, 100], [8, 300], [4, 412], [11, 400], [12, 500], [2, 360], [4, 205], [4, 400], [20, 600], [1, 585], [10, 540], [15, 250], [15, 290], [16, 510], [17, 590], [6, 100], [5, 400]]\n"
     ]
    }
   ],
   "source": [
    "print testdata"
   ]
  },
  {
   "cell_type": "code",
   "execution_count": 18,
   "metadata": {
    "collapsed": false
   },
   "outputs": [
    {
     "name": "stdout",
     "output_type": "stream",
     "text": [
      "[[1, 2, 50], [1, 8, 110], [1, 11, 120], [1, 10, 550], [1, 8, 295], [1, 4, 200], [1, 2, 375], [1, 2, 52], [1, 9, 100], [1, 8, 300], [1, 4, 412], [1, 11, 400], [1, 12, 500], [1, 2, 360], [1, 4, 205], [1, 4, 400], [1, 20, 600], [1, 1, 585], [1, 10, 540], [1, 15, 250], [1, 15, 290], [1, 16, 510], [1, 17, 590], [1, 6, 100], [1, 5, 400]]\n"
     ]
    }
   ],
   "source": [
    "print add_intercept(testdata)"
   ]
  },
  {
   "cell_type": "code",
   "execution_count": 19,
   "metadata": {
    "collapsed": false
   },
   "outputs": [
    {
     "name": "stdout",
     "output_type": "stream",
     "text": [
      "[[2, 50], [8, 110], [11, 120], [10, 550], [8, 295], [4, 200], [2, 375], [2, 52], [9, 100], [8, 300], [4, 412], [11, 400], [12, 500], [2, 360], [4, 205], [4, 400], [20, 600], [1, 585], [10, 540], [15, 250], [15, 290], [16, 510], [17, 590], [6, 100], [5, 400]]\n"
     ]
    }
   ],
   "source": [
    "print testdata"
   ]
  },
  {
   "cell_type": "code",
   "execution_count": 22,
   "metadata": {
    "collapsed": false
   },
   "outputs": [
    {
     "name": "stdout",
     "output_type": "stream",
     "text": [
      "25\n",
      "25\n"
     ]
    }
   ],
   "source": [
    "print len(testdata)\n",
    "print len(testlabels)"
   ]
  },
  {
   "cell_type": "code",
   "execution_count": 29,
   "metadata": {
    "collapsed": true
   },
   "outputs": [],
   "source": [
    "def predict(observations, weights):\n",
    "    predictions = []\n",
    "    for x in observations:\n",
    "        predictions.append(map(lambda y: y[0] * y[1], zip(weights, x)))\n",
    "    return map(sum, predictions)"
   ]
  },
  {
   "cell_type": "code",
   "execution_count": 30,
   "metadata": {
    "collapsed": false
   },
   "outputs": [
    {
     "data": {
      "text/plain": [
       "[23, 53, 83]"
      ]
     },
     "execution_count": 30,
     "metadata": {},
     "output_type": "execute_result"
    }
   ],
   "source": [
    "predict([[1, 2], [3, 4], [5, 6]], [7, 8])"
   ]
  },
  {
   "cell_type": "code",
   "execution_count": 31,
   "metadata": {
    "collapsed": true
   },
   "outputs": [],
   "source": [
    "def sse(labels, predictions):\n",
    "    return sum([(x[0] - x[1])**2 for x in zip(labels, predictions)])"
   ]
  },
  {
   "cell_type": "code",
   "execution_count": 32,
   "metadata": {
    "collapsed": false
   },
   "outputs": [
    {
     "data": {
      "text/plain": [
       "35"
      ]
     },
     "execution_count": 32,
     "metadata": {},
     "output_type": "execute_result"
    }
   ],
   "source": [
    "sse([1, 2, 3], [6, 5, 4])"
   ]
  },
  {
   "cell_type": "code",
   "execution_count": 33,
   "metadata": {
    "collapsed": true
   },
   "outputs": [],
   "source": [
    "from sklearn.preprocessing import scale"
   ]
  },
  {
   "cell_type": "code",
   "execution_count": 42,
   "metadata": {
    "collapsed": false
   },
   "outputs": [
    {
     "name": "stdout",
     "output_type": "stream",
     "text": [
      "[[-1.18046397 -1.59491618]\n",
      " [-0.04540246 -1.25528326]\n",
      " [ 0.5221283  -1.19867778]\n",
      " [ 0.33295138  1.23535813]\n",
      " [-0.04540246 -0.20808177]\n",
      " [-0.80211014 -0.74583389]\n",
      " [-1.18046397  0.24476212]\n",
      " [-1.18046397 -1.58359509]\n",
      " [ 0.14377446 -1.31188875]\n",
      " [-0.04540246 -0.17977902]\n",
      " [-0.80211014  0.45420242]\n",
      " [ 0.5221283   0.38627584]\n",
      " [ 0.71130521  0.9523307 ]\n",
      " [-1.18046397  0.15985389]\n",
      " [-0.80211014 -0.71753114]\n",
      " [-0.80211014  0.38627584]\n",
      " [ 2.22472056  1.51838557]\n",
      " [-1.36964089  1.43347734]\n",
      " [ 0.33295138  1.17875265]\n",
      " [ 1.27883597 -0.46280646]\n",
      " [ 1.27883597 -0.23638451]\n",
      " [ 1.46801289  1.00893619]\n",
      " [ 1.65718981  1.46178008]\n",
      " [-0.4237563  -1.31188875]\n",
      " [-0.61293322  0.38627584]]\n",
      "8.24\n",
      "331.76\n",
      "[[2, 50], [8, 110], [11, 120], [10, 550], [8, 295], [4, 200], [2, 375], [2, 52], [9, 100], [8, 300], [4, 412], [11, 400], [12, 500], [2, 360], [4, 205], [4, 400], [20, 600], [1, 585], [10, 540], [15, 250], [15, 290], [16, 510], [17, 590], [6, 100], [5, 400]]\n"
     ]
    }
   ],
   "source": [
    "def mean(l):\n",
    "    return sum(l)/float(len(l))\n",
    "\n",
    "print scale(testdata)\n",
    "print mean(transpose(testdata)[0])\n",
    "print mean(transpose(testdata)[1])\n",
    "print(testdata)"
   ]
  },
  {
   "cell_type": "markdown",
   "metadata": {},
   "source": [
    "Implementing the following gradient step formula: \n",
    "\n",
    "$$\\theta_i : = \\theta_i - \\alpha \\sum_{j=1}^{m} (h_{\\theta}(x^{(j)}) - y^{(j)}) \\cdot x_i^{(j)}$$\n",
    "\n",
    "where j in superscript indexes observations and i in subscript indexes features/weights"
   ]
  },
  {
   "cell_type": "code",
   "execution_count": 43,
   "metadata": {
    "collapsed": true
   },
   "outputs": [],
   "source": [
    "def gradient_step(learning_rate, labels, weights, observations):\n",
    "    features = transpose(observations)\n",
    "    predictions = predict(observations, weights)\n",
    "    errors = [y[0] - y[1] for y in zip(predictions, labels)]\n",
    "    new_weights = []\n",
    "    for weight_idx, weight in enumerate(weights):\n",
    "        sigmasum = 0\n",
    "        for observation_idx, observation in enumerate(observations):\n",
    "            # sum the product of errors and feature values over each observation for this weight\n",
    "            obvsproduct = error[observation_idx] * observation[weight_idx]\n",
    "            sigmasum += obvsproduct\n",
    "        to_subtract = learning_rate * sigmasum\n",
    "        new_weights.append(weight - to_subtract)\n",
    "    return new_weights\n",
    "            \n",
    "        "
   ]
  },
  {
   "cell_type": "code",
   "execution_count": 44,
   "metadata": {
    "collapsed": true
   },
   "outputs": [],
   "source": [
    "def train(learning_rate, labels, raw_observations, threshold, max_iterations):\n",
    "    observations = add_intercept(scale(raw_observations))\n",
    "    weights = [1 for x in observations[0]]\n",
    "    for iteration in range(max_iterations):\n",
    "        predictions = predict(observations, weights) # this work is repeated in gradient_step but I'm going to get running before I clean that stuff up.\n",
    "        error = sse(labels, predictions)\n",
    "        if error <= threshold:\n",
    "            return weights\n",
    "        weights = gradient_step(learning_rate, labels, weights, observations)\n",
    "    return weights"
   ]
  },
  {
   "cell_type": "code",
   "execution_count": null,
   "metadata": {
    "collapsed": true
   },
   "outputs": [],
   "source": []
  }
 ],
 "metadata": {
  "kernelspec": {
   "display_name": "Python 2",
   "language": "python",
   "name": "python2"
  },
  "language_info": {
   "codemirror_mode": {
    "name": "ipython",
    "version": 2
   },
   "file_extension": ".py",
   "mimetype": "text/x-python",
   "name": "python",
   "nbconvert_exporter": "python",
   "pygments_lexer": "ipython2",
   "version": "2.7.11"
  }
 },
 "nbformat": 4,
 "nbformat_minor": 0
}
